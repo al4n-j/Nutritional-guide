{
  "nbformat": 4,
  "nbformat_minor": 0,
  "metadata": {
    "colab": {
      "provenance": [],
      "gpuType": "T4"
    },
    "kernelspec": {
      "name": "python3",
      "display_name": "Python 3"
    },
    "language_info": {
      "name": "python"
    },
    "accelerator": "GPU"
  },
  "cells": [
    {
      "cell_type": "markdown",
      "source": [
        "Import dataset"
      ],
      "metadata": {
        "id": "tJ_59ZhNqO1w"
      }
    },
    {
      "cell_type": "code",
      "execution_count": null,
      "metadata": {
        "id": "cS6vv9oZA1bv",
        "colab": {
          "base_uri": "https://localhost:8080/"
        },
        "outputId": "fcd12f48-affa-4417-f6ff-3ecf575762e1"
      },
      "outputs": [
        {
          "output_type": "stream",
          "name": "stdout",
          "text": [
            "Drive already mounted at /content/drive; to attempt to forcibly remount, call drive.mount(\"/content/drive\", force_remount=True).\n"
          ]
        }
      ],
      "source": [
        "from google.colab import drive\n",
        "drive.mount('/content/drive')"
      ]
    },
    {
      "cell_type": "markdown",
      "source": [
        "Importing libraries"
      ],
      "metadata": {
        "id": "hHwswkhO4ZoX"
      }
    },
    {
      "cell_type": "code",
      "source": [
        "import numpy as np\n",
        "import tensorflow as tf\n",
        "import matplotlib.pyplot as plt"
      ],
      "metadata": {
        "id": "qJ9Z9DacqfVa"
      },
      "execution_count": null,
      "outputs": []
    },
    {
      "cell_type": "markdown",
      "source": [
        "#Data preprocessing"
      ],
      "metadata": {
        "id": "JqalMRQL4Xuu"
      }
    },
    {
      "cell_type": "markdown",
      "source": [
        "##Training image preprocessing"
      ],
      "metadata": {
        "id": "r4Omvo7k5JI9"
      }
    },
    {
      "cell_type": "code",
      "source": [
        "training_set=tf.keras.utils.image_dataset_from_directory('/content/drive/MyDrive/input/train',\n",
        "                                                         labels='inferred',\n",
        "                                                         label_mode='categorical',\n",
        "                                                         class_names=None,\n",
        "                                                         color_mode='rgb',\n",
        "                                                         batch_size=32,\n",
        "                                                         image_size=(64,64),\n",
        "                                                         shuffle =True,\n",
        "                                                         seed=None,\n",
        "                                                         validation_split=None,\n",
        "                                                         subset=None,\n",
        "                                                         interpolation='bilinear',\n",
        "                                                         follow_links=False,\n",
        "                                                         crop_to_aspect_ratio=False\n",
        "                                                         )"
      ],
      "metadata": {
        "colab": {
          "base_uri": "https://localhost:8080/"
        },
        "id": "W28xA4j-4tKw",
        "outputId": "83063d7e-dc37-4174-d35b-85cb7639a337"
      },
      "execution_count": null,
      "outputs": [
        {
          "output_type": "stream",
          "name": "stdout",
          "text": [
            "Found 3125 files belonging to 36 classes.\n"
          ]
        }
      ]
    },
    {
      "cell_type": "markdown",
      "source": [
        "##Validation image preprocessing"
      ],
      "metadata": {
        "id": "8x4aVPJ09xIu"
      }
    },
    {
      "cell_type": "code",
      "source": [
        "validation_set=tf.keras.utils.image_dataset_from_directory('/content/drive/MyDrive/input/validation',\n",
        "                                                         labels='inferred',\n",
        "                                                         label_mode='categorical',\n",
        "                                                         class_names=None,\n",
        "                                                         color_mode='rgb',\n",
        "                                                         batch_size=32,\n",
        "                                                         image_size=(64,64),\n",
        "                                                         shuffle =True,\n",
        "                                                         seed=None,\n",
        "                                                         validation_split=None,\n",
        "                                                         subset=None,\n",
        "                                                         interpolation='bilinear',\n",
        "                                                         follow_links=False,\n",
        "                                                         crop_to_aspect_ratio=False\n",
        "                                                         )"
      ],
      "metadata": {
        "colab": {
          "base_uri": "https://localhost:8080/"
        },
        "id": "X1Le60cI9QNA",
        "outputId": "df45a162-495c-481f-829c-0ca392c7ce63"
      },
      "execution_count": null,
      "outputs": [
        {
          "output_type": "stream",
          "name": "stdout",
          "text": [
            "Found 351 files belonging to 36 classes.\n"
          ]
        }
      ]
    },
    {
      "cell_type": "markdown",
      "source": [
        "#Building Model"
      ],
      "metadata": {
        "id": "zP1kHKcr_D_B"
      }
    },
    {
      "cell_type": "code",
      "source": [
        "cnn = tf.keras.models.Sequential()"
      ],
      "metadata": {
        "id": "KvTTL9hB-WZo"
      },
      "execution_count": null,
      "outputs": []
    },
    {
      "cell_type": "markdown",
      "source": [
        "##Building Convolution Layer"
      ],
      "metadata": {
        "id": "wQ7Qp0Nx_rg8"
      }
    },
    {
      "cell_type": "code",
      "source": [
        "cnn.add(tf.keras.layers.Conv2D(filters=64, kernel_size=3, activation='relu', input_shape=[64,64,3]))\n",
        "cnn.add(tf.keras.layers.MaxPool2D(pool_size=2, strides=2))"
      ],
      "metadata": {
        "id": "SEhy7AN0_pB9"
      },
      "execution_count": null,
      "outputs": []
    },
    {
      "cell_type": "code",
      "source": [
        "cnn.add(tf.keras.layers.Conv2D(filters=64, kernel_size=3, activation='relu'))\n",
        "cnn.add(tf.keras.layers.MaxPool2D(pool_size=2, strides=2))"
      ],
      "metadata": {
        "id": "iZKVE_6gA5xO"
      },
      "execution_count": null,
      "outputs": []
    },
    {
      "cell_type": "code",
      "source": [
        "cnn.add(tf.keras.layers.Dropout(0.5))  # To avoid overfitting"
      ],
      "metadata": {
        "id": "wO6EA7TYBJRM"
      },
      "execution_count": null,
      "outputs": []
    },
    {
      "cell_type": "code",
      "source": [
        "cnn.add(tf.keras.layers.Flatten())"
      ],
      "metadata": {
        "id": "e1yqN7YmBalg"
      },
      "execution_count": null,
      "outputs": []
    },
    {
      "cell_type": "code",
      "source": [
        "cnn.add(tf.keras.layers.Dense(units=128, activation='relu'))"
      ],
      "metadata": {
        "id": "ivNNplJABrji"
      },
      "execution_count": null,
      "outputs": []
    },
    {
      "cell_type": "code",
      "source": [
        "cnn.add(tf.keras.layers.Dense(units=36, activation='softmax')) # Output layer"
      ],
      "metadata": {
        "id": "e8fCyOkhB_wI"
      },
      "execution_count": null,
      "outputs": []
    },
    {
      "cell_type": "markdown",
      "source": [
        "#Compiling and Training phase"
      ],
      "metadata": {
        "id": "ppegaB1zClwI"
      }
    },
    {
      "cell_type": "code",
      "source": [
        "cnn.compile(optimizer='rmsprop', loss='categorical_crossentropy', metrics=['accuracy'])"
      ],
      "metadata": {
        "id": "ekwU_ADFCaRB"
      },
      "execution_count": null,
      "outputs": []
    },
    {
      "cell_type": "code",
      "source": [
        "cnn.summary()"
      ],
      "metadata": {
        "colab": {
          "base_uri": "https://localhost:8080/"
        },
        "id": "vw5aFFxYYA32",
        "outputId": "ae5f9581-0a5d-45a1-dbe6-94f699fb687f"
      },
      "execution_count": null,
      "outputs": [
        {
          "output_type": "stream",
          "name": "stdout",
          "text": [
            "Model: \"sequential_3\"\n",
            "_________________________________________________________________\n",
            " Layer (type)                Output Shape              Param #   \n",
            "=================================================================\n",
            " conv2d_12 (Conv2D)          (None, 62, 62, 32)        896       \n",
            "                                                                 \n",
            " conv2d_13 (Conv2D)          (None, 60, 60, 32)        9248      \n",
            "                                                                 \n",
            " max_pooling2d_6 (MaxPoolin  (None, 30, 30, 32)        0         \n",
            " g2D)                                                            \n",
            "                                                                 \n",
            " conv2d_14 (Conv2D)          (None, 28, 28, 64)        18496     \n",
            "                                                                 \n",
            " conv2d_15 (Conv2D)          (None, 26, 26, 64)        36928     \n",
            "                                                                 \n",
            " max_pooling2d_7 (MaxPoolin  (None, 13, 13, 64)        0         \n",
            " g2D)                                                            \n",
            "                                                                 \n",
            " flatten_3 (Flatten)         (None, 10816)             0         \n",
            "                                                                 \n",
            " dense_7 (Dense)             (None, 512)               5538304   \n",
            "                                                                 \n",
            " dense_8 (Dense)             (None, 256)               131328    \n",
            "                                                                 \n",
            " dropout_3 (Dropout)         (None, 256)               0         \n",
            "                                                                 \n",
            " dense_9 (Dense)             (None, 256)               65792     \n",
            "                                                                 \n",
            " dense_10 (Dense)            (None, 36)                9252      \n",
            "                                                                 \n",
            "=================================================================\n",
            "Total params: 5810244 (22.16 MB)\n",
            "Trainable params: 5810244 (22.16 MB)\n",
            "Non-trainable params: 0 (0.00 Byte)\n",
            "_________________________________________________________________\n"
          ]
        }
      ]
    },
    {
      "cell_type": "code",
      "source": [
        "training_history= cnn.fit(x=training_set, validation_data=validation_set, epochs=30)"
      ],
      "metadata": {
        "colab": {
          "base_uri": "https://localhost:8080/"
        },
        "id": "1wZGPkDTDM_O",
        "outputId": "d383d02f-b86d-4ed9-fd63-0635f0dde9cc"
      },
      "execution_count": null,
      "outputs": [
        {
          "output_type": "stream",
          "name": "stdout",
          "text": [
            "Epoch 1/32\n",
            "98/98 [==============================] - 1740s 16s/step - loss: 3.5860 - accuracy: 0.0294 - val_loss: 3.5852 - val_accuracy: 0.0285\n",
            "Epoch 2/32\n",
            "98/98 [==============================] - 79s 733ms/step - loss: 3.5864 - accuracy: 0.0237 - val_loss: 3.5863 - val_accuracy: 0.0285\n",
            "Epoch 3/32\n",
            "98/98 [==============================] - 77s 729ms/step - loss: 3.5836 - accuracy: 0.0282 - val_loss: 3.5857 - val_accuracy: 0.0285\n",
            "Epoch 4/32\n",
            "98/98 [==============================] - 81s 759ms/step - loss: 3.5815 - accuracy: 0.0259 - val_loss: 3.5858 - val_accuracy: 0.0285\n",
            "Epoch 5/32\n",
            "98/98 [==============================] - 78s 729ms/step - loss: 3.5806 - accuracy: 0.0266 - val_loss: 3.5860 - val_accuracy: 0.0285\n",
            "Epoch 6/32\n",
            "98/98 [==============================] - 77s 718ms/step - loss: 3.5799 - accuracy: 0.0272 - val_loss: 3.5863 - val_accuracy: 0.0285\n",
            "Epoch 7/32\n",
            "98/98 [==============================] - 77s 725ms/step - loss: 3.5795 - accuracy: 0.0314 - val_loss: 3.5866 - val_accuracy: 0.0285\n",
            "Epoch 8/32\n",
            "98/98 [==============================] - 78s 728ms/step - loss: 3.5791 - accuracy: 0.0294 - val_loss: 3.5869 - val_accuracy: 0.0285\n",
            "Epoch 9/32\n",
            "98/98 [==============================] - 77s 733ms/step - loss: 3.5789 - accuracy: 0.0317 - val_loss: 3.5872 - val_accuracy: 0.0285\n",
            "Epoch 10/32\n",
            "98/98 [==============================] - 77s 730ms/step - loss: 3.5788 - accuracy: 0.0301 - val_loss: 3.5875 - val_accuracy: 0.0285\n",
            "Epoch 11/32\n",
            "98/98 [==============================] - 78s 736ms/step - loss: 3.5788 - accuracy: 0.0301 - val_loss: 3.5877 - val_accuracy: 0.0285\n",
            "Epoch 12/32\n",
            "98/98 [==============================] - 78s 723ms/step - loss: 3.5788 - accuracy: 0.0298 - val_loss: 3.5879 - val_accuracy: 0.0285\n",
            "Epoch 13/32\n",
            "98/98 [==============================] - 80s 747ms/step - loss: 3.5787 - accuracy: 0.0285 - val_loss: 3.5881 - val_accuracy: 0.0285\n",
            "Epoch 14/32\n",
            "98/98 [==============================] - 79s 739ms/step - loss: 3.5786 - accuracy: 0.0266 - val_loss: 3.5882 - val_accuracy: 0.0285\n",
            "Epoch 15/32\n",
            "98/98 [==============================] - 78s 742ms/step - loss: 3.5787 - accuracy: 0.0266 - val_loss: 3.5882 - val_accuracy: 0.0285\n",
            "Epoch 16/32\n",
            "98/98 [==============================] - 78s 719ms/step - loss: 3.5787 - accuracy: 0.0262 - val_loss: 3.5884 - val_accuracy: 0.0285\n",
            "Epoch 17/32\n",
            "98/98 [==============================] - 80s 743ms/step - loss: 3.5786 - accuracy: 0.0275 - val_loss: 3.5885 - val_accuracy: 0.0285\n",
            "Epoch 18/32\n",
            "98/98 [==============================] - 77s 720ms/step - loss: 3.5786 - accuracy: 0.0262 - val_loss: 3.5886 - val_accuracy: 0.0285\n",
            "Epoch 19/32\n",
            "98/98 [==============================] - 75s 712ms/step - loss: 3.5785 - accuracy: 0.0269 - val_loss: 3.5886 - val_accuracy: 0.0285\n",
            "Epoch 20/32\n",
            "98/98 [==============================] - 77s 712ms/step - loss: 3.5786 - accuracy: 0.0288 - val_loss: 3.5887 - val_accuracy: 0.0285\n",
            "Epoch 21/32\n",
            "98/98 [==============================] - 77s 712ms/step - loss: 3.5786 - accuracy: 0.0266 - val_loss: 3.5887 - val_accuracy: 0.0285\n",
            "Epoch 22/32\n",
            "98/98 [==============================] - 77s 711ms/step - loss: 3.5786 - accuracy: 0.0285 - val_loss: 3.5888 - val_accuracy: 0.0285\n",
            "Epoch 23/32\n",
            "98/98 [==============================] - 78s 734ms/step - loss: 3.5786 - accuracy: 0.0259 - val_loss: 3.5888 - val_accuracy: 0.0285\n",
            "Epoch 24/32\n",
            "98/98 [==============================] - 75s 711ms/step - loss: 3.5786 - accuracy: 0.0266 - val_loss: 3.5888 - val_accuracy: 0.0285\n",
            "Epoch 25/32\n",
            "98/98 [==============================] - 77s 721ms/step - loss: 3.5787 - accuracy: 0.0272 - val_loss: 3.5888 - val_accuracy: 0.0256\n",
            "Epoch 26/32\n",
            "98/98 [==============================] - 77s 711ms/step - loss: 3.5787 - accuracy: 0.0285 - val_loss: 3.5888 - val_accuracy: 0.0285\n",
            "Epoch 27/32\n",
            "98/98 [==============================] - 76s 718ms/step - loss: 3.5786 - accuracy: 0.0256 - val_loss: 3.5889 - val_accuracy: 0.0285\n",
            "Epoch 28/32\n",
            "98/98 [==============================] - 77s 714ms/step - loss: 3.5785 - accuracy: 0.0253 - val_loss: 3.5888 - val_accuracy: 0.0285\n",
            "Epoch 29/32\n",
            "98/98 [==============================] - 77s 722ms/step - loss: 3.5785 - accuracy: 0.0275 - val_loss: 3.5889 - val_accuracy: 0.0285\n",
            "Epoch 30/32\n",
            "98/98 [==============================] - 75s 707ms/step - loss: 3.5787 - accuracy: 0.0275 - val_loss: 3.5889 - val_accuracy: 0.0285\n",
            "Epoch 31/32\n",
            "98/98 [==============================] - 76s 710ms/step - loss: 3.5785 - accuracy: 0.0256 - val_loss: 3.5889 - val_accuracy: 0.0285\n",
            "Epoch 32/32\n",
            "98/98 [==============================] - 78s 738ms/step - loss: 3.5787 - accuracy: 0.0272 - val_loss: 3.5889 - val_accuracy: 0.0285\n"
          ]
        }
      ]
    },
    {
      "cell_type": "markdown",
      "source": [
        "#Saving Model"
      ],
      "metadata": {
        "id": "QAFL0Yk-QVKr"
      }
    },
    {
      "cell_type": "code",
      "source": [
        "cnn.save('fruits_veg_trained_model.h5')"
      ],
      "metadata": {
        "colab": {
          "base_uri": "https://localhost:8080/"
        },
        "id": "Y_VzdBODEAp3",
        "outputId": "2fd549d3-581f-45f4-fc87-31cbdcf4dc38"
      },
      "execution_count": null,
      "outputs": [
        {
          "output_type": "stream",
          "name": "stderr",
          "text": [
            "/usr/local/lib/python3.10/dist-packages/keras/src/engine/training.py:3103: UserWarning: You are saving your model as an HDF5 file via `model.save()`. This file format is considered legacy. We recommend using instead the native Keras format, e.g. `model.save('my_model.keras')`.\n",
            "  saving_api.save_model(\n"
          ]
        }
      ]
    },
    {
      "cell_type": "code",
      "source": [
        "training_history.history"
      ],
      "metadata": {
        "colab": {
          "base_uri": "https://localhost:8080/"
        },
        "id": "9vY8fQMnQ2CJ",
        "outputId": "2bab8520-ee1b-45d0-c8e0-57c3cbd5a5c8"
      },
      "execution_count": null,
      "outputs": [
        {
          "output_type": "execute_result",
          "data": {
            "text/plain": [
              "{'loss': [6.921772003173828,\n",
              "  3.8790459632873535,\n",
              "  3.7997686862945557,\n",
              "  3.458854913711548,\n",
              "  3.575326919555664,\n",
              "  3.177257537841797,\n",
              "  2.9189791679382324,\n",
              "  2.7268226146698,\n",
              "  2.8900771141052246,\n",
              "  2.288668632507324,\n",
              "  2.2530219554901123,\n",
              "  2.0797946453094482,\n",
              "  1.8729952573776245,\n",
              "  1.7100147008895874,\n",
              "  1.8974488973617554,\n",
              "  2.095862627029419,\n",
              "  1.6482923030853271,\n",
              "  1.23524010181427,\n",
              "  1.4363943338394165,\n",
              "  1.253093957901001,\n",
              "  1.6910574436187744,\n",
              "  1.2286286354064941,\n",
              "  1.0395411252975464,\n",
              "  1.0463898181915283,\n",
              "  1.1573870182037354,\n",
              "  1.0977904796600342,\n",
              "  0.9645591378211975,\n",
              "  1.0007119178771973,\n",
              "  0.9558733105659485,\n",
              "  0.9787720441818237],\n",
              " 'accuracy': [0.03840000182390213,\n",
              "  0.04992000013589859,\n",
              "  0.09216000139713287,\n",
              "  0.1398400068283081,\n",
              "  0.17759999632835388,\n",
              "  0.23520000278949738,\n",
              "  0.2969599962234497,\n",
              "  0.33983999490737915,\n",
              "  0.3868800103664398,\n",
              "  0.4636799991130829,\n",
              "  0.48159998655319214,\n",
              "  0.5244799852371216,\n",
              "  0.5712000131607056,\n",
              "  0.609279990196228,\n",
              "  0.6339200139045715,\n",
              "  0.6620799899101257,\n",
              "  0.688319981098175,\n",
              "  0.7142400145530701,\n",
              "  0.7065600156784058,\n",
              "  0.7343999743461609,\n",
              "  0.7388799786567688,\n",
              "  0.7680000066757202,\n",
              "  0.7862399816513062,\n",
              "  0.7884799838066101,\n",
              "  0.7875199913978577,\n",
              "  0.7923200130462646,\n",
              "  0.8102399706840515,\n",
              "  0.8131200075149536,\n",
              "  0.8275200128555298,\n",
              "  0.8214399814605713],\n",
              " 'val_loss': [4.194357395172119,\n",
              "  3.3721439838409424,\n",
              "  3.4952197074890137,\n",
              "  2.8210747241973877,\n",
              "  2.7280797958374023,\n",
              "  2.3354134559631348,\n",
              "  2.2172701358795166,\n",
              "  4.803925037384033,\n",
              "  2.0355961322784424,\n",
              "  1.9920700788497925,\n",
              "  2.2422358989715576,\n",
              "  1.5414867401123047,\n",
              "  1.4568097591400146,\n",
              "  1.4047602415084839,\n",
              "  1.697966456413269,\n",
              "  1.5169682502746582,\n",
              "  1.5793933868408203,\n",
              "  1.5983927249908447,\n",
              "  1.1588726043701172,\n",
              "  1.434190273284912,\n",
              "  1.5700820684432983,\n",
              "  1.6563167572021484,\n",
              "  1.4836134910583496,\n",
              "  1.318288803100586,\n",
              "  1.8985694646835327,\n",
              "  1.4451069831848145,\n",
              "  1.5656992197036743,\n",
              "  1.297073483467102,\n",
              "  1.7675671577453613,\n",
              "  1.6704100370407104],\n",
              " 'val_accuracy': [0.03418803587555885,\n",
              "  0.1111111119389534,\n",
              "  0.1339031308889389,\n",
              "  0.2934472858905792,\n",
              "  0.4017094075679779,\n",
              "  0.4928774833679199,\n",
              "  0.49857550859451294,\n",
              "  0.2706552743911743,\n",
              "  0.6125355958938599,\n",
              "  0.6495726704597473,\n",
              "  0.6068376302719116,\n",
              "  0.7663817405700684,\n",
              "  0.7692307829856873,\n",
              "  0.7948718070983887,\n",
              "  0.8034188151359558,\n",
              "  0.8319088220596313,\n",
              "  0.8660968542098999,\n",
              "  0.811965823173523,\n",
              "  0.8490028381347656,\n",
              "  0.8603988885879517,\n",
              "  0.8205128312110901,\n",
              "  0.8888888955116272,\n",
              "  0.8888888955116272,\n",
              "  0.8774929046630859,\n",
              "  0.8603988885879517,\n",
              "  0.9031339287757874,\n",
              "  0.8774929046630859,\n",
              "  0.9373219609260559,\n",
              "  0.8974359035491943,\n",
              "  0.9145299196243286]}"
            ]
          },
          "metadata": {},
          "execution_count": 15
        }
      ]
    },
    {
      "cell_type": "code",
      "source": [
        "# Recording training history\n",
        "import json\n",
        "with open('training_history.json','w') as f:\n",
        "  json.dump(training_history.history,f)"
      ],
      "metadata": {
        "id": "AFJmsy3bQo1r"
      },
      "execution_count": null,
      "outputs": []
    },
    {
      "cell_type": "code",
      "source": [
        "print(training_history.history.keys())"
      ],
      "metadata": {
        "colab": {
          "base_uri": "https://localhost:8080/"
        },
        "id": "VGCkNjJuRMFD",
        "outputId": "8a2c0a1d-0478-4e14-e82f-4dd0393ce879"
      },
      "execution_count": null,
      "outputs": [
        {
          "output_type": "stream",
          "name": "stdout",
          "text": [
            "dict_keys(['loss', 'accuracy', 'val_loss', 'val_accuracy'])\n"
          ]
        }
      ]
    },
    {
      "cell_type": "markdown",
      "source": [
        "##Calculating Accuracy of the Model"
      ],
      "metadata": {
        "id": "C8OrxTp6Rb_O"
      }
    },
    {
      "cell_type": "code",
      "source": [
        "print(\"Validation set accuracy: {} %\".format(training_history.history['val_accuracy'][-1]*100))"
      ],
      "metadata": {
        "colab": {
          "base_uri": "https://localhost:8080/"
        },
        "id": "IRWXsANcRak2",
        "outputId": "11ef610f-d4e8-485e-9ed4-8babf38b5819"
      },
      "execution_count": null,
      "outputs": [
        {
          "output_type": "stream",
          "name": "stdout",
          "text": [
            "Validation set accuracy: 91.45299196243286 %\n"
          ]
        }
      ]
    },
    {
      "cell_type": "markdown",
      "source": [
        "#Accuracy Visualization"
      ],
      "metadata": {
        "id": "XCHkaB30Svva"
      }
    },
    {
      "cell_type": "markdown",
      "source": [
        "##Training Visualization"
      ],
      "metadata": {
        "id": "1PNPfmMzS1H0"
      }
    },
    {
      "cell_type": "code",
      "source": [
        "epochs = [i for i in range(1,31)]\n",
        "plt.plot(epochs, training_history.history['accuracy'],color='red')\n",
        "plt.xlabel('Epochs')\n",
        "plt.ylabel('Accuracy')\n",
        "plt.title('Traing Accuracy Visualization')"
      ],
      "metadata": {
        "colab": {
          "base_uri": "https://localhost:8080/",
          "height": 489
        },
        "id": "1W9P3hMtRzWv",
        "outputId": "2cc07617-19e6-4ce5-866b-46f06bdd3fe9"
      },
      "execution_count": null,
      "outputs": [
        {
          "output_type": "execute_result",
          "data": {
            "text/plain": [
              "Text(0.5, 1.0, 'Traing Accuracy Visualization')"
            ]
          },
          "metadata": {},
          "execution_count": 24
        },
        {
          "output_type": "display_data",
          "data": {
            "text/plain": [
              "<Figure size 640x480 with 1 Axes>"
            ],
            "image/png": "[encoded data removed]"
          },
          "metadata": {}
        }
      ]
    },
    {
      "cell_type": "markdown",
      "source": [
        "##Validation Visualization"
      ],
      "metadata": {
        "id": "-VqlB9p4T2dl"
      }
    },
    {
      "cell_type": "code",
      "source": [
        "epochs = [i for i in range(1,31)]\n",
        "plt.plot(epochs, training_history.history['val_accuracy'],color='blue')\n",
        "plt.xlabel('Epochs')\n",
        "plt.ylabel('Accuracy')\n",
        "plt.title('Traing Accuracy Visualization')"
      ],
      "metadata": {
        "colab": {
          "base_uri": "https://localhost:8080/",
          "height": 489
        },
        "id": "JVhD04_uTXfY",
        "outputId": "789509ba-a30f-4126-e5ef-09fa711d03ca"
      },
      "execution_count": null,
      "outputs": [
        {
          "output_type": "execute_result",
          "data": {
            "text/plain": [
              "Text(0.5, 1.0, 'Traing Accuracy Visualization')"
            ]
          },
          "metadata": {},
          "execution_count": 25
        },
        {
          "output_type": "display_data",
          "data": {
            "text/plain": [
              "<Figure size 640x480 with 1 Axes>"
            ],
            "image/png": "[encoded data removed]"
          },
          "metadata": {}
        }
      ]
    },
    {
      "cell_type": "code",
      "source": [],
      "metadata": {
        "id": "z91yLpHpUMnr"
      },
      "execution_count": null,
      "outputs": []
    }
  ]
}